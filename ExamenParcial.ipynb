{
  "nbformat": 4,
  "nbformat_minor": 0,
  "metadata": {
    "colab": {
      "provenance": [],
      "authorship_tag": "ABX9TyMnXJFVUO16KdB35THoeE3V",
      "include_colab_link": true
    },
    "kernelspec": {
      "name": "python3",
      "display_name": "Python 3"
    },
    "language_info": {
      "name": "python"
    }
  },
  "cells": [
    {
      "cell_type": "markdown",
      "metadata": {
        "id": "view-in-github",
        "colab_type": "text"
      },
      "source": [
        "<a href=\"https://colab.research.google.com/github/JFzta/Differential-Equations-Codes/blob/main/ExamenParcial.ipynb\" target=\"_parent\"><img src=\"https://colab.research.google.com/assets/colab-badge.svg\" alt=\"Open In Colab\"/></a>"
      ]
    },
    {
      "cell_type": "code",
      "source": [
        "!pip install -Uqq ipdb\n",
        "import ipdb"
      ],
      "metadata": {
        "colab": {
          "base_uri": "https://localhost:8080/"
        },
        "id": "G0l-oKYVG1im",
        "outputId": "79bbd4d5-a224-455f-ebbc-127bccdfa990"
      },
      "execution_count": 2,
      "outputs": [
        {
          "output_type": "stream",
          "name": "stdout",
          "text": [
            "\u001b[?25l   \u001b[90m━━━━━━━━━━━━━━━━━━━━━━━━━━━━━━━━━━━━━━━━\u001b[0m \u001b[32m0.0/1.6 MB\u001b[0m \u001b[31m?\u001b[0m eta \u001b[36m-:--:--\u001b[0m\r\u001b[2K   \u001b[91m━━━━━━━━━━━\u001b[0m\u001b[91m╸\u001b[0m\u001b[90m━━━━━━━━━━━━━━━━━━━━━━━━━━━━\u001b[0m \u001b[32m0.5/1.6 MB\u001b[0m \u001b[31m13.8 MB/s\u001b[0m eta \u001b[36m0:00:01\u001b[0m\r\u001b[2K   \u001b[91m━━━━━━━━━━━━━━━━━━━━━━━━━━━━━━━━━━━━━━━\u001b[0m\u001b[91m╸\u001b[0m \u001b[32m1.6/1.6 MB\u001b[0m \u001b[31m27.6 MB/s\u001b[0m eta \u001b[36m0:00:01\u001b[0m\r\u001b[2K   \u001b[90m━━━━━━━━━━━━━━━━━━━━━━━━━━━━━━━━━━━━━━━━\u001b[0m \u001b[32m1.6/1.6 MB\u001b[0m \u001b[31m20.2 MB/s\u001b[0m eta \u001b[36m0:00:00\u001b[0m\n",
            "\u001b[?25h"
          ]
        }
      ]
    },
    {
      "cell_type": "code",
      "execution_count": 3,
      "metadata": {
        "colab": {
          "base_uri": "https://localhost:8080/"
        },
        "id": "ns7EHVuJ-rWf",
        "outputId": "72a191c9-ab20-46a3-9ecf-d97d8d2049ba"
      },
      "outputs": [
        {
          "output_type": "stream",
          "name": "stdout",
          "text": [
            "Matriz A:\n",
            "[[ 1.    0.5   0.25]\n",
            " [ 1.    1.8   3.24]\n",
            " [ 1.    3.2  10.24]]\n",
            "\n",
            "Matriz L:\n",
            "[[1.         0.         0.        ]\n",
            " [1.         1.         0.        ]\n",
            " [1.         0.48148148 1.        ]]\n",
            "\n",
            "Matriz U:\n",
            "[[ 1.    0.5   0.25]\n",
            " [ 0.    2.7   9.99]\n",
            " [ 0.    0.   -1.82]]\n",
            "\n",
            "Vector c (coeficientes c1, c2, c3):\n",
            "[ 3. -4.  1.]\n"
          ]
        }
      ],
      "source": [
        "import numpy as np\n",
        "from scipy.linalg import lu, solve\n",
        "\n",
        "x = np.array([0.5, 1.8, 3.2])\n",
        "fx = np.array([1.25, -0.96, 0.44])\n",
        "\n",
        "\n",
        "A = np.vstack([np.ones_like(x), x, x**2]).T\n",
        "b = fx\n",
        "\n",
        "P, L, U = lu(A)\n",
        "\n",
        "Pb = P @ b\n",
        "y = np.linalg.solve(L, Pb)\n",
        "\n",
        "c = np.linalg.solve(U, y)\n",
        "\n",
        "\n",
        "print(\"Matriz A:\")\n",
        "print(A)\n",
        "print(\"\\nMatriz L:\")\n",
        "print(L)\n",
        "print(\"\\nMatriz U:\")\n",
        "print(U)\n",
        "print(\"\\nVector c (coeficientes c1, c2, c3):\")\n",
        "print(c)# VERIFICAR -----------------------------------\n",
        "\n",
        "\n"
      ]
    },
    {
      "cell_type": "code",
      "source": [
        "import numpy as np\n",
        "\n",
        "# Definimos la matriz A\n",
        "A = np.array([\n",
        "    [12, 3, -5],\n",
        "    [1, 5, 3],\n",
        "    [3, 7, 13]\n",
        "])\n",
        "\n",
        "# Verificación de diagonal dominante\n",
        "def es_diagonal_dominante(A):\n",
        "    for i in range(len(A)):\n",
        "        diagonal = abs(A[i, i])\n",
        "        suma_otras = sum(abs(A[i, j]) for j in range(len(A)) if j != i)\n",
        "        print(f\"Fila {i+1}: |a_ii| = {diagonal}, suma = {suma_otras}\")\n",
        "        if diagonal < suma_otras:\n",
        "            return False\n",
        "    return True\n",
        "\n",
        "print(\"¿Es diagonalmente dominante?:\", es_diagonal_dominante(A))\n",
        "\n",
        "#--------------------------JACOBI----------------------------------------------------------\n",
        "# Sistema lineal\n",
        "b = np.array([1, 28, 76])\n",
        "x0 = np.array([1.0, 0.0, 1.0])  # condición inicial\n",
        "n_iter = 10\n",
        "\n",
        "def jacobi(A, b, x0, n_iter):\n",
        "    n = len(b)\n",
        "    x = x0.copy()\n",
        "    resultados = []\n",
        "\n",
        "    for k in range(n_iter):\n",
        "        x_new = np.zeros_like(x)\n",
        "        errores = []\n",
        "        for i in range(n):\n",
        "            s = sum(A[i][j] * x[j] for j in range(n) if j != i)\n",
        "            x_new[i] = (b[i] - s) / A[i][i]\n",
        "            error = abs((x_new[i] - x[i]) / x_new[i]) * 100 if x_new[i] != 0 else 0\n",
        "            errores.append(error)\n",
        "        resultados.append((k + 1, *x_new, *errores))\n",
        "        x = x_new\n",
        "    return resultados\n",
        "\n",
        "# Ejecutar\n",
        "res_jacobi = jacobi(A, b, x0, n_iter)\n",
        "\n",
        "# Mostrar resultados\n",
        "print(\"Iter |   x1      x2      x3   |  Err_x1  Err_x2  Err_x3\")\n",
        "for r in res_jacobi:\n",
        "    print(f\"{r[0]:>4} | {r[1]:7.4f} {r[2]:7.4f} {r[3]:7.4f} | {r[4]:7.2f} {r[5]:7.2f} {r[6]:7.2f}\")"
      ],
      "metadata": {
        "colab": {
          "base_uri": "https://localhost:8080/"
        },
        "id": "H_PS2aWVFeSt",
        "outputId": "af1d5e26-e467-4e71-b040-55dc5fd624cb"
      },
      "execution_count": 4,
      "outputs": [
        {
          "output_type": "stream",
          "name": "stdout",
          "text": [
            "Fila 1: |a_ii| = 12, suma = 8\n",
            "Fila 2: |a_ii| = 5, suma = 4\n",
            "Fila 3: |a_ii| = 13, suma = 10\n",
            "¿Es diagonalmente dominante?: True\n",
            "Iter |   x1      x2      x3   |  Err_x1  Err_x2  Err_x3\n",
            "   1 |  0.5000  4.8000  5.6154 |  100.00  100.00   82.19\n",
            "   2 |  1.2231  2.1308  3.1462 |   59.12  125.27   78.48\n",
            "   3 |  0.8615  3.4677  4.4166 |   41.96   38.55   28.76\n",
            "   4 |  1.0566  2.7778  3.7801 |   18.46   24.84   16.84\n",
            "   5 |  0.9639  3.1206  4.1066 |    9.62   10.99    7.95\n",
            "   6 |  1.0143  2.9433  3.9434 |    4.96    6.03    4.14\n",
            "   7 |  0.9906  3.0311  4.0273 |    2.39    2.90    2.08\n",
            "   8 |  1.0036  2.9855  3.9854 |    1.29    1.53    1.05\n",
            "   9 |  0.9975  3.0080  4.0070 |    0.61    0.75    0.54\n",
            "  10 |  1.0009  2.9963  3.9962 |    0.33    0.39    0.27\n"
          ]
        }
      ]
    },
    {
      "cell_type": "code",
      "source": [
        "def gauss_seidel(A, b, x0, n_iter):\n",
        "    n = len(b)\n",
        "    x = x0.copy()\n",
        "    resultados = []\n",
        "\n",
        "    for k in range(n_iter):\n",
        "        x_old = x.copy()\n",
        "        errores = []\n",
        "        for i in range(n):\n",
        "            s1 = sum(A[i][j] * x[j] for j in range(i))\n",
        "            s2 = sum(A[i][j] * x_old[j] for j in range(i + 1, n))\n",
        "            x[i] = (b[i] - s1 - s2) / A[i][i]\n",
        "            error = abs((x[i] - x_old[i]) / x[i]) * 100 if x[i] != 0 else 0\n",
        "            errores.append(error)\n",
        "        resultados.append((k + 1, *x, *errores))\n",
        "    return resultados\n",
        "\n",
        "# Ejecutar\n",
        "res_gs = gauss_seidel(A, b, x0, n_iter)\n",
        "\n",
        "# Mostrar resultados\n",
        "print(\"\\nMétodo de Gauss-Seidel:\")\n",
        "print(\"Iter |   x1      x2      x3   |  Err_x1  Err_x2  Err_x3\")\n",
        "for r in res_gs:\n",
        "    print(f\"{r[0]:>4} | {r[1]:7.4f} {r[2]:7.4f} {r[3]:7.4f} | {r[4]:7.2f} {r[5]:7.2f} {r[6]:7.2f}\")"
      ],
      "metadata": {
        "id": "fydF01fzdi5p",
        "outputId": "0ecf5287-1eb1-44ac-fe93-7eb29b7c6b36",
        "colab": {
          "base_uri": "https://localhost:8080/"
        }
      },
      "execution_count": 5,
      "outputs": [
        {
          "output_type": "stream",
          "name": "stdout",
          "text": [
            "\n",
            "Método de Gauss-Seidel:\n",
            "Iter |   x1      x2      x3   |  Err_x1  Err_x2  Err_x3\n",
            "   1 |  0.5000  4.9000  3.0923 |  100.00  100.00   67.66\n",
            "   2 |  0.1468  3.7153  3.8118 |  240.61   31.89   18.87\n",
            "   3 |  0.7428  3.1644  3.9708 |   80.24   17.41    4.01\n",
            "   4 |  0.9468  3.0281  3.9971 |   21.55    4.50    0.66\n",
            "   5 |  0.9918  3.0034  4.0001 |    4.54    0.82    0.07\n",
            "   6 |  0.9992  3.0001  4.0001 |    0.74    0.11    0.00\n",
            "   7 |  1.0000  2.9999  4.0000 |    0.08    0.01    0.00\n",
            "   8 |  1.0000  3.0000  4.0000 |    0.00    0.00    0.00\n",
            "   9 |  1.0000  3.0000  4.0000 |    0.00    0.00    0.00\n",
            "  10 |  1.0000  3.0000  4.0000 |    0.00    0.00    0.00\n"
          ]
        }
      ]
    },
    {
      "cell_type": "code",
      "source": [
        "import numpy as np\n",
        "import pandas as pd\n",
        "\n",
        "# Definir la función\n",
        "def f(x):\n",
        "    return x**2 * np.sqrt(np.cos(x))\n",
        "\n",
        "# Intervalo y paso\n",
        "h = 0.01\n",
        "x_vals = np.arange(1.25, 1.35 + h, h)\n",
        "\n",
        "# Evaluar la función en todos los puntos\n",
        "tabla = [(x, f(x)) for x in x_vals]\n",
        "\n",
        "# Calcular la segunda derivada en x = 1.3\n",
        "x0 = 1.3\n",
        "f_xph = f(x0 + h)\n",
        "f_x = f(x0)\n",
        "f_xmh = f(x0 - h)\n",
        "\n",
        "f2_num = (f_xph - 2*f_x + f_xmh) / h**2\n",
        "\n",
        "# Mostrar tabla\n",
        "df = pd.DataFrame(tabla, columns=[\"x\", \"f(x)\"])\n",
        "print(df)\n",
        "\n",
        "# Mostrar resultado de la segunda derivada\n",
        "print(f\"\\nAproximación de f''(1.3): {f2_num:.6f}\")\n"
      ],
      "metadata": {
        "id": "25n-vydxdybo",
        "outputId": "ba8a692f-5021-40b3-cb8c-323446c763f9",
        "colab": {
          "base_uri": "https://localhost:8080/"
        }
      },
      "execution_count": 6,
      "outputs": [
        {
          "output_type": "stream",
          "name": "stdout",
          "text": [
            "       x      f(x)\n",
            "0   1.25  0.877400\n",
            "1   1.26  0.877954\n",
            "2   1.27  0.877929\n",
            "3   1.28  0.877294\n",
            "4   1.29  0.876020\n",
            "5   1.30  0.874073\n",
            "6   1.31  0.871417\n",
            "7   1.32  0.868015\n",
            "8   1.33  0.863825\n",
            "9   1.34  0.858802\n",
            "10  1.35  0.852896\n",
            "11  1.36  0.846055\n",
            "\n",
            "Aproximación de f''(1.3): -7.084073\n"
          ]
        }
      ]
    },
    {
      "cell_type": "code",
      "source": [
        "import numpy as np\n",
        "\n",
        "# Definir la función\n",
        "def f(x):\n",
        "    return x**2 * np.sqrt(np.cos(x))\n",
        "\n",
        "# Intervalo\n",
        "a = 1.25\n",
        "b = 1.35\n",
        "\n",
        "# Regla del trapecio (n = 1)\n",
        "def trapecio(f, a, b):\n",
        "    return (b - a) / 2 * (f(a) + f(b))\n",
        "\n",
        "# Regla de Simpson 1/3 (n = 2)\n",
        "def simpson_1_3(f, a, b):\n",
        "    m = (a + b) / 2\n",
        "    return (b - a) / 6 * (f(a) + 4*f(m) + f(b))\n",
        "\n",
        "# Regla de Simpson 3/8 (n = 3)\n",
        "def simpson_3_8(f, a, b):\n",
        "    h = (b - a) / 3\n",
        "    x0 = a\n",
        "    x1 = a + h\n",
        "    x2 = a + 2*h\n",
        "    x3 = b\n",
        "    return (b - a) * (f(x0) + 3*f(x1) + 3*f(x2) + f(x3)) / 8\n",
        "\n",
        "# Calcular las integrales\n",
        "I_trapecio = trapecio(f, a, b)\n",
        "I_simpson13 = simpson_1_3(f, a, b)\n",
        "I_simpson38 = simpson_3_8(f, a, b)\n",
        "\n",
        "print(f\"Trapecio:         {I_trapecio:.8f}\")\n",
        "print(f\"Simpson 1/3:      {I_simpson13:.8f}\")\n",
        "print(f\"Simpson 3/8:      {I_simpson38:.8f}\")\n"
      ],
      "metadata": {
        "id": "rJdPxDLHd-e0",
        "outputId": "66257a18-40c4-4d19-9ba8-e886d9fb5156",
        "colab": {
          "base_uri": "https://localhost:8080/"
        }
      },
      "execution_count": 7,
      "outputs": [
        {
          "output_type": "stream",
          "name": "stdout",
          "text": [
            "Trapecio:         0.08651479\n",
            "Simpson 1/3:      0.08710979\n",
            "Simpson 3/8:      0.08711033\n"
          ]
        }
      ]
    }
  ]
}