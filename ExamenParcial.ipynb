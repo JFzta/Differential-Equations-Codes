{
  "nbformat": 4,
  "nbformat_minor": 0,
  "metadata": {
    "colab": {
      "provenance": [],
      "authorship_tag": "ABX9TyONI+Xf0xnav8amTXO66QGg",
      "include_colab_link": true
    },
    "kernelspec": {
      "name": "python3",
      "display_name": "Python 3"
    },
    "language_info": {
      "name": "python"
    }
  },
  "cells": [
    {
      "cell_type": "markdown",
      "metadata": {
        "id": "view-in-github",
        "colab_type": "text"
      },
      "source": [
        "<a href=\"https://colab.research.google.com/github/JFzta/Differential-Equations-Codes/blob/main/ExamenParcial.ipynb\" target=\"_parent\"><img src=\"https://colab.research.google.com/assets/colab-badge.svg\" alt=\"Open In Colab\"/></a>"
      ]
    },
    {
      "cell_type": "code",
      "source": [
        "!pip install -Uqq ipdb\n",
        "import ipdb"
      ],
      "metadata": {
        "colab": {
          "base_uri": "https://localhost:8080/"
        },
        "id": "G0l-oKYVG1im",
        "outputId": "090235fa-d58b-4b43-ef07-fc1322a90ba6"
      },
      "execution_count": 5,
      "outputs": [
        {
          "output_type": "stream",
          "name": "stdout",
          "text": [
            "\u001b[?25l   \u001b[90m━━━━━━━━━━━━━━━━━━━━━━━━━━━━━━━━━━━━━━━━\u001b[0m \u001b[32m0.0/1.6 MB\u001b[0m \u001b[31m?\u001b[0m eta \u001b[36m-:--:--\u001b[0m\r\u001b[2K   \u001b[91m━━━━━━━━━━━━━━━━━━━━━━━━━━\u001b[0m\u001b[91m╸\u001b[0m\u001b[90m━━━━━━━━━━━━━\u001b[0m \u001b[32m1.1/1.6 MB\u001b[0m \u001b[31m29.7 MB/s\u001b[0m eta \u001b[36m0:00:01\u001b[0m\r\u001b[2K   \u001b[91m━━━━━━━━━━━━━━━━━━━━━━━━━━━━━━━━━━━━━━━\u001b[0m\u001b[91m╸\u001b[0m \u001b[32m1.6/1.6 MB\u001b[0m \u001b[31m32.8 MB/s\u001b[0m eta \u001b[36m0:00:01\u001b[0m\r\u001b[2K   \u001b[90m━━━━━━━━━━━━━━━━━━━━━━━━━━━━━━━━━━━━━━━━\u001b[0m \u001b[32m1.6/1.6 MB\u001b[0m \u001b[31m19.7 MB/s\u001b[0m eta \u001b[36m0:00:00\u001b[0m\n",
            "\u001b[?25h"
          ]
        }
      ]
    },
    {
      "cell_type": "code",
      "execution_count": 1,
      "metadata": {
        "colab": {
          "base_uri": "https://localhost:8080/"
        },
        "id": "ns7EHVuJ-rWf",
        "outputId": "062cf612-4ac8-43eb-b736-8842adf074d5"
      },
      "outputs": [
        {
          "output_type": "stream",
          "name": "stdout",
          "text": [
            "Matriz A:\n",
            "[[ 1.    0.5   0.25]\n",
            " [ 1.    1.8   3.24]\n",
            " [ 1.    3.2  10.24]]\n",
            "\n",
            "Matriz L:\n",
            "[[1.         0.         0.        ]\n",
            " [1.         1.         0.        ]\n",
            " [1.         0.48148148 1.        ]]\n",
            "\n",
            "Matriz U:\n",
            "[[ 1.    0.5   0.25]\n",
            " [ 0.    2.7   9.99]\n",
            " [ 0.    0.   -1.82]]\n",
            "\n",
            "Vector c (coeficientes c1, c2, c3):\n",
            "[ 3. -4.  1.]\n"
          ]
        }
      ],
      "source": [
        "import numpy as np\n",
        "from scipy.linalg import lu, solve\n",
        "\n",
        "# Datos\n",
        "x = np.array([0.5, 1.8, 3.2])\n",
        "fx = np.array([1.25, -0.96, 0.44])\n",
        "\n",
        "# Construcción de la matriz A y vector b\n",
        "A = np.vstack([np.ones_like(x), x, x**2]).T\n",
        "b = fx\n",
        "\n",
        "# Descomposición LU\n",
        "P, L, U = lu(A)\n",
        "\n",
        "# Paso 1: resolver Ly = Pb\n",
        "Pb = P @ b\n",
        "y = np.linalg.solve(L, Pb)\n",
        "\n",
        "# Paso 2: resolver Uc = y\n",
        "c = np.linalg.solve(U, y)\n",
        "\n",
        "# Mostrar resultados\n",
        "print(\"Matriz A:\")\n",
        "print(A)\n",
        "print(\"\\nMatriz L:\")\n",
        "print(L)\n",
        "print(\"\\nMatriz U:\")\n",
        "print(U)\n",
        "print(\"\\nVector c (coeficientes c1, c2, c3):\")\n",
        "print(c)# VERIFICAR -----------------------------------\n",
        "\n",
        "\n"
      ]
    },
    {
      "cell_type": "code",
      "source": [
        "import numpy as np\n",
        "\n",
        "# Definimos la matriz A\n",
        "A = np.array([\n",
        "    [12, 3, -5],\n",
        "    [1, 5, 3],\n",
        "    [3, 7, 13]\n",
        "])\n",
        "\n",
        "# Verificación de diagonal dominante\n",
        "def es_diagonal_dominante(A):\n",
        "    for i in range(len(A)):\n",
        "        diagonal = abs(A[i, i])\n",
        "        suma_otras = sum(abs(A[i, j]) for j in range(len(A)) if j != i)\n",
        "        print(f\"Fila {i+1}: |a_ii| = {diagonal}, suma = {suma_otras}\")\n",
        "        if diagonal < suma_otras:\n",
        "            return False\n",
        "    return True\n",
        "\n",
        "print(\"¿Es diagonalmente dominante?:\", es_diagonal_dominante(A))\n",
        "\n",
        "#--------------------------JACOBI----------------------------------------------------------\n",
        "# Sistema lineal\n",
        "b = np.array([1, 28, 76])\n",
        "x0 = np.array([1.0, 0.0, 1.0])  # condición inicial\n",
        "n_iter = 10\n",
        "\n",
        "def jacobi(A, b, x0, n_iter):\n",
        "    n = len(b)\n",
        "    x = x0.copy()\n",
        "    resultados = []\n",
        "\n",
        "    for k in range(n_iter):\n",
        "        x_new = np.zeros_like(x)\n",
        "        errores = []\n",
        "        for i in range(n):\n",
        "            s = sum(A[i][j] * x[j] for j in range(n) if j != i)\n",
        "            x_new[i] = (b[i] - s) / A[i][i]\n",
        "            error = abs((x_new[i] - x[i]) / x_new[i]) * 100 if x_new[i] != 0 else 0\n",
        "            errores.append(error)\n",
        "        resultados.append((k + 1, *x_new, *errores))\n",
        "        x = x_new\n",
        "    return resultados\n",
        "\n",
        "# Ejecutar\n",
        "res_jacobi = jacobi(A, b, x0, n_iter)\n",
        "\n",
        "# Mostrar resultados\n",
        "print(\"Iter |   x1      x2      x3   |  Err_x1  Err_x2  Err_x3\")\n",
        "for r in res_jacobi:\n",
        "    print(f\"{r[0]:>4} | {r[1]:7.4f} {r[2]:7.4f} {r[3]:7.4f} | {r[4]:7.2f} {r[5]:7.2f} {r[6]:7.2f}\")"
      ],
      "metadata": {
        "colab": {
          "base_uri": "https://localhost:8080/"
        },
        "id": "H_PS2aWVFeSt",
        "outputId": "be70f9e0-5901-4c3d-8621-ed207dc84953"
      },
      "execution_count": 4,
      "outputs": [
        {
          "output_type": "stream",
          "name": "stdout",
          "text": [
            "Fila 1: |a_ii| = 12, suma = 8\n",
            "Fila 2: |a_ii| = 5, suma = 4\n",
            "Fila 3: |a_ii| = 13, suma = 10\n",
            "¿Es diagonalmente dominante?: True\n",
            "Iter |   x1      x2      x3   |  Err_x1  Err_x2  Err_x3\n",
            "   1 |  0.5000  4.8000  5.6154 |  100.00  100.00   82.19\n",
            "   2 |  1.2231  2.1308  3.1462 |   59.12  125.27   78.48\n",
            "   3 |  0.8615  3.4677  4.4166 |   41.96   38.55   28.76\n",
            "   4 |  1.0566  2.7778  3.7801 |   18.46   24.84   16.84\n",
            "   5 |  0.9639  3.1206  4.1066 |    9.62   10.99    7.95\n",
            "   6 |  1.0143  2.9433  3.9434 |    4.96    6.03    4.14\n",
            "   7 |  0.9906  3.0311  4.0273 |    2.39    2.90    2.08\n",
            "   8 |  1.0036  2.9855  3.9854 |    1.29    1.53    1.05\n",
            "   9 |  0.9975  3.0080  4.0070 |    0.61    0.75    0.54\n",
            "  10 |  1.0009  2.9963  3.9962 |    0.33    0.39    0.27\n"
          ]
        }
      ]
    }
  ]
}