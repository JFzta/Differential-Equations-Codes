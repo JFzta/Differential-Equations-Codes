{
  "nbformat": 4,
  "nbformat_minor": 0,
  "metadata": {
    "colab": {
      "provenance": [],
      "authorship_tag": "ABX9TyOEJriVCP9zCwtne69RomNN",
      "include_colab_link": true
    },
    "kernelspec": {
      "name": "python3",
      "display_name": "Python 3"
    },
    "language_info": {
      "name": "python"
    }
  },
  "cells": [
    {
      "cell_type": "markdown",
      "metadata": {
        "id": "view-in-github",
        "colab_type": "text"
      },
      "source": [
        "<a href=\"https://colab.research.google.com/github/JFzta/Differential-Equations-Codes/blob/main/Codigos_ecuaciones_diferenciales.ipynb\" target=\"_parent\"><img src=\"https://colab.research.google.com/assets/colab-badge.svg\" alt=\"Open In Colab\"/></a>"
      ]
    },
    {
      "cell_type": "code",
      "execution_count": null,
      "metadata": {
        "id": "tPzDsecBrD-8"
      },
      "outputs": [],
      "source": [
        "# LU decomposition Lower Upper for a matrix A nxn\n",
        "\n",
        "def LU_decomposition(A , N):\n",
        "    for k in range(1 , N-1):\n",
        "        for i in range(k+1 , N):\n",
        "            factor = A[i][k]/A[k][k]\n",
        "            A[i][k] = factor\n",
        "            for j in range(k+1 , N):\n",
        "                A[i][j] -= factor*A[k][j]\n",
        "\n",
        "    return A"
      ]
    }
  ]
}